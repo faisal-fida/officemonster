{
 "cells": [
  {
   "cell_type": "code",
   "execution_count": 21,
   "id": "7a0dd832",
   "metadata": {},
   "outputs": [],
   "source": [
    "import requests\n",
    "import json\n",
    "import pandas as pd\n",
    "import os\n",
    "import sys\n",
    "from bs4 import BeautifulSoup as BS"
   ]
  },
  {
   "cell_type": "code",
   "execution_count": 22,
   "id": "af525667",
   "metadata": {},
   "outputs": [],
   "source": [
    "df = pd.read_csv('urls.csv')\n",
    "urls = df['url']"
   ]
  },
  {
   "cell_type": "code",
   "execution_count": 23,
   "id": "1dd8e07d",
   "metadata": {},
   "outputs": [],
   "source": [
    "url = 'https://www.officemonster.co.uk/bench-desking/maestro-25-back-to-back-straight-desks-1000mm-x-1200mm-black-bench-leg-frame-and-white-top'"
   ]
  },
  {
   "cell_type": "code",
   "execution_count": 24,
   "id": "70e30b54",
   "metadata": {},
   "outputs": [],
   "source": [
    "def get_soup(url):\n",
    "    try:\n",
    "        response = requests.request(\"GET\", url)\n",
    "        if response.status_code == 200: \n",
    "            soup = BS(response.text, 'html.parser')\n",
    "            return soup\n",
    "        else:\n",
    "            return None\n",
    "    except HTTPError as err:\n",
    "        print(f\"Error at {url}, Error: {err}\")\n",
    "        return None"
   ]
  },
  {
   "cell_type": "code",
   "execution_count": 25,
   "id": "413f7925",
   "metadata": {},
   "outputs": [],
   "source": [
    "soup = get_soup(url) "
   ]
  },
  {
   "cell_type": "code",
   "execution_count": 26,
   "id": "01809049",
   "metadata": {},
   "outputs": [],
   "source": [
    "data = {}"
   ]
  },
  {
   "cell_type": "code",
   "execution_count": 27,
   "id": "2e6fda58",
   "metadata": {},
   "outputs": [],
   "source": [
    "json_value = soup.select_one('input.product_options').get('value')\n",
    "json_data = json.loads(json_value)\n",
    "jsondata_configurator = json_data['configurator']"
   ]
  },
  {
   "cell_type": "code",
   "execution_count": 28,
   "id": "64f243ce",
   "metadata": {},
   "outputs": [],
   "source": [
    "\n",
    "for i in jsondata_configurator:\n",
    "    cart_label = jsondata_configurator[i]['label']\n",
    "    \n",
    "    cart_values_list = []\n",
    "    \n",
    "    for j in jsondata_configurator[i]['options']:\n",
    "        cart_values = jsondata_configurator[i]['options'][j]\n",
    "        cart_values_list.append(cart_values['value'])\n",
    "\n",
    "    data[cart_label] = cart_values_list\n"
   ]
  },
  {
   "cell_type": "code",
   "execution_count": 29,
   "id": "31c7848e",
   "metadata": {},
   "outputs": [],
   "source": [
    "selector = 'div.product-title h1.product-name'\n",
    "data['title'] = soup.select_one(selector).get_text(strip=True)"
   ]
  },
  {
   "cell_type": "code",
   "execution_count": 30,
   "id": "fea8e1bb",
   "metadata": {},
   "outputs": [],
   "source": [
    "selector = 'div.main-image input[id^=\"lightboxImages\"]'\n",
    "images_list = soup.select(selector)\n",
    "\n",
    "if len(images_list) > 0:\n",
    "    data['images'] = json.loads(images_list[0].get('value'))"
   ]
  },
  {
   "cell_type": "code",
   "execution_count": 31,
   "id": "88e971de",
   "metadata": {},
   "outputs": [],
   "source": [
    "selector = 'div.product-shopping-actions-prices div.price span.has-price'\n",
    "price_data = soup.select(selector)\n",
    "if len(price_data) > 1:\n",
    "    data['price'] = price_data[1].get_text(strip=True)"
   ]
  },
  {
   "cell_type": "code",
   "execution_count": 32,
   "id": "3eb91089",
   "metadata": {},
   "outputs": [],
   "source": [
    "selector = 'div.panel-body div.row div.product-description custom-html'\n",
    "data['short_description'] = soup.select_one(selector).get_text(strip=True)"
   ]
  },
  {
   "cell_type": "code",
   "execution_count": 33,
   "id": "45e4082e",
   "metadata": {},
   "outputs": [],
   "source": [
    "selector = 'section.tech-specs div.row div'\n",
    "techspecs_items = soup.select_one(selector)\n",
    "\n",
    "brand_temp = techspecs_items.find('span', string='Brand')\n",
    "manufacturer_temp = techspecs_items.find('span', string='Manufacturer')\n",
    "\n",
    "if brand_temp:\n",
    "    data['brand'] = brand_temp.find_next('p').get_text(strip=True)\n",
    "    \n",
    "if manufacturer_temp:\n",
    "    data['manufacturer'] = manufacturer_temp.find_next('p').get_text(strip=True)"
   ]
  },
  {
   "cell_type": "code",
   "execution_count": 34,
   "id": "786df7da",
   "metadata": {},
   "outputs": [
    {
     "data": {
      "text/plain": [
       "{'Colour': ['White', 'Oak', 'Walnut', 'Beech', 'Grey Oak'],\n",
       " 'Desk Depth': ['600mm', '800mm'],\n",
       " 'Desk Width': ['1600mm', '1000mm', '1200mm', '1400mm', '1800mm', '800mm'],\n",
       " 'Frame Colour': ['White', 'Silver', 'Black'],\n",
       " 'title': 'Maestro 25 back to back straight desks 1000mm x 1200mm - black bench leg frame, white top',\n",
       " 'images': ['https://cdn3.evostore.io/productimages/dams/l/mb1012bkwh.jpg',\n",
       "  'https://cdn3.evostore.io/productimages/dams/l/maestro25-bench-black.jpg'],\n",
       " 'price': '£287.00',\n",
       " 'short_description': 'A staple for the modern office, The Maestro 25 desking range, with its minimal, modern styling and multiple colour options is there when you need it, but doesn’t demand constant attention. The Maestro 25 Bench strikes a balance between individual and group activities in the workplace with fully welded H-Frame legs in black, silver and white that are shared between desks with a modesty panel to complement the 25mm melamine desktops.\\n                                    Free Delivery On All Office Furniture.',\n",
       " 'brand': 'Maestro 25',\n",
       " 'manufacturer': 'Dams International'}"
      ]
     },
     "execution_count": 34,
     "metadata": {},
     "output_type": "execute_result"
    }
   ],
   "source": [
    "data"
   ]
  }
 ],
 "metadata": {
  "kernelspec": {
   "display_name": "Python 3 (ipykernel)",
   "language": "python",
   "name": "python3"
  },
  "language_info": {
   "codemirror_mode": {
    "name": "ipython",
    "version": 3
   },
   "file_extension": ".py",
   "mimetype": "text/x-python",
   "name": "python",
   "nbconvert_exporter": "python",
   "pygments_lexer": "ipython3",
   "version": "3.12.0"
  },
  "widgets": {
   "application/vnd.jupyter.widget-state+json": {
    "state": {},
    "version_major": 2,
    "version_minor": 0
   }
  }
 },
 "nbformat": 4,
 "nbformat_minor": 5
}
