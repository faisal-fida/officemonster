{
 "cells": [
  {
   "cell_type": "code",
   "execution_count": 16,
   "id": "5db57fab",
   "metadata": {},
   "outputs": [],
   "source": [
    "import os\n",
    "import pandas as pd"
   ]
  },
  {
   "cell_type": "code",
   "execution_count": 17,
   "id": "9f2c0fc1",
   "metadata": {},
   "outputs": [],
   "source": [
    "df_temps = []\n",
    "counts = []\n",
    "\n",
    "for csv_file in os.listdir('URLS/'):\n",
    "    df_temp = pd.read_csv('URLS/' + csv_file)\n",
    "    counts.append(df_temp.shape)\n",
    "    df_temps.append(df_temp)\n",
    "    \n",
    "\n",
    "df = pd.concat(df_temps)"
   ]
  },
  {
   "cell_type": "code",
   "execution_count": 15,
   "id": "16c21a2e",
   "metadata": {},
   "outputs": [
    {
     "data": {
      "text/plain": [
       "3581"
      ]
     },
     "execution_count": 15,
     "metadata": {},
     "output_type": "execute_result"
    }
   ],
   "source": [
    "x = [i[0] for i in counts]\n",
    "sum(x)"
   ]
  },
  {
   "cell_type": "code",
   "execution_count": 20,
   "id": "6952d52a",
   "metadata": {},
   "outputs": [],
   "source": [
    "df.to_csv('combined_urls.csv', index=False)"
   ]
  },
  {
   "cell_type": "code",
   "execution_count": 21,
   "id": "2cdc924c",
   "metadata": {},
   "outputs": [],
   "source": [
    "df = pd.read_csv('combined_urls.csv')"
   ]
  },
  {
   "cell_type": "code",
   "execution_count": 22,
   "id": "3da5cc9b",
   "metadata": {},
   "outputs": [],
   "source": [
    "df['url'].to_csv('urls.csv')"
   ]
  },
  {
   "cell_type": "code",
   "execution_count": null,
   "id": "149432bd",
   "metadata": {},
   "outputs": [],
   "source": []
  }
 ],
 "metadata": {
  "kernelspec": {
   "display_name": "Python 3 (ipykernel)",
   "language": "python",
   "name": "python3"
  },
  "language_info": {
   "codemirror_mode": {
    "name": "ipython",
    "version": 3
   },
   "file_extension": ".py",
   "mimetype": "text/x-python",
   "name": "python",
   "nbconvert_exporter": "python",
   "pygments_lexer": "ipython3",
   "version": "3.12.0"
  }
 },
 "nbformat": 4,
 "nbformat_minor": 5
}
